{
 "cells": [
  {
   "attachments": {},
   "cell_type": "markdown",
   "metadata": {},
   "source": [
    "# Business intelligence"
   ]
  },
  {
   "attachments": {},
   "cell_type": "markdown",
   "metadata": {},
   "source": [
    "### Funciona como un analisis descriptivo de la información en tiempo pasado y presente."
   ]
  },
  {
   "attachments": {},
   "cell_type": "markdown",
   "metadata": {},
   "source": [
    "## Bases del Bi."
   ]
  },
  {
   "attachments": {},
   "cell_type": "markdown",
   "metadata": {},
   "source": [
    "Fundamental para generar reportres y descubrir con la informacion que tenemos.\n",
    "\n",
    "Estrucutura del BI.\n",
    "\n",
    "ETL\n",
    "- Extract\n",
    "- Transform\n",
    "- Load\n",
    "\n",
    "En el proceso sigue:\n",
    "- Exploracion\n",
    "- Descubrimiento\n",
    "- Reporting\n",
    "Presentacion de la informacion o ¿Cómo?:\n",
    "- Visualizacion de datos\n",
    "- Storytelling\n",
    "- Recomendaciones\n",
    "\n",
    "  "
   ]
  },
  {
   "attachments": {},
   "cell_type": "markdown",
   "metadata": {},
   "source": [
    "## Reto:\n",
    "#### Que es BI?\n",
    "### Area que busca obtener insings o informacion relevante para la toma de decisiones a partir de los datos en una organizacion o empresa."
   ]
  },
  {
   "attachments": {},
   "cell_type": "markdown",
   "metadata": {},
   "source": [
    "## Stakeholders\n",
    "\n",
    "- Personas o  actores con interes de pormedio en la empresa u organización.\n",
    "Aqui 2 ejemplos de ello:\n",
    "- Accionista: Retorno de inversión.\n",
    "- Clientes: calidad de productos, servicios y necesidades.\n",
    "- Emplados: Seguridad, estabilidad.\n",
    "- Proveedores: estabilidad e ingresos.\n",
    "## Priorizar stakeholders\n",
    "No se puede mantener a todo mundo contento.\n",
    "### Empresa tradicional\n",
    "1. Accionistas\n",
    "2. Clientes\n",
    "3. Empleados\n",
    "### Startups\n",
    "1. Clientes\n",
    "2. Empleados\n",
    "3. Accionistas\n",
    "   \n",
    "## La razón del BI\n",
    "### Salvalguardar los intereses de los stakeholders\n",
    "\n",
    "### Ejemplo: stakeholders\n",
    "##### Bancolombia\n",
    "1. Accionistas\n",
    "2. Clientes\n",
    "3. Empleados\n",
    "\n"
   ]
  }
 ],
 "metadata": {
  "kernelspec": {
   "display_name": "Python 3 (ipykernel)",
   "language": "python",
   "name": "python3"
  },
  "orig_nbformat": 4
 },
 "nbformat": 4,
 "nbformat_minor": 2
}
