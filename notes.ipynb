{
 "cells": [
  {
   "attachments": {},
   "cell_type": "markdown",
   "metadata": {},
   "source": [
    "# Business intelligence"
   ]
  },
  {
   "attachments": {},
   "cell_type": "markdown",
   "metadata": {},
   "source": [
    "### Funciona como un analisis descriptivo de la información en tiempo pasado y presente."
   ]
  },
  {
   "attachments": {},
   "cell_type": "markdown",
   "metadata": {},
   "source": [
    "## Bases del Bi."
   ]
  },
  {
   "attachments": {},
   "cell_type": "markdown",
   "metadata": {},
   "source": [
    "Fundamental para generar reportres y descubrir con la informacion que tenemos.\n",
    "\n",
    "Estrucutura del BI.\n",
    "\n",
    "ETL\n",
    "- Extract\n",
    "- Transform\n",
    "- Load\n",
    "\n",
    "En el proceso sigue:\n",
    "- Exploracion\n",
    "- Descubrimiento\n",
    "- Reporting\n",
    "Presentacion de la informacion o ¿Cómo?:\n",
    "- Visualizacion de datos\n",
    "- Storytelling\n",
    "- Recomendaciones\n",
    "\n",
    "  "
   ]
  },
  {
   "attachments": {},
   "cell_type": "markdown",
   "metadata": {},
   "source": [
    "## Reto:\n",
    "#### Que es BI?\n",
    "### Area que busca obtener insings o informacion relevante para la toma de decisiones a partir de los datos en una organizacion o empresa."
   ]
  },
  {
   "attachments": {},
   "cell_type": "markdown",
   "metadata": {},
   "source": [
    "## Stakeholders\n",
    "\n",
    "- Personas o  actores con interes de pormedio en la empresa u organización.\n",
    "Aqui 2 ejemplos de ello:\n",
    "- Accionista: Retorno de inversión.\n",
    "- Clientes: calidad de productos, servicios y necesidades.\n",
    "- Emplados: Seguridad, estabilidad.\n",
    "- Proveedores: estabilidad e ingresos.\n",
    "## Priorizar stakeholders\n",
    "No se puede mantener a todo mundo contento.\n",
    "### Empresa tradicional\n",
    "1. Accionistas\n",
    "2. Clientes\n",
    "3. Empleados\n",
    "### Startups\n",
    "1. Clientes\n",
    "2. Empleados\n",
    "3. Accionistas\n",
    "   \n",
    "## La razón del BI\n",
    "### Salvalguardar los intereses de los stakeholders\n",
    "\n",
    "### Ejemplo: stakeholders\n",
    "##### Bancolombia\n",
    "1. Accionistas\n",
    "2. Clientes\n",
    "3. Empleados\n",
    "\n"
   ]
  },
  {
   "attachments": {},
   "cell_type": "markdown",
   "metadata": {},
   "source": [
    "## Tipo de empresas.\n",
    "## Venta de productos y ventas de servicios.\n",
    "\n",
    "Es importante diferenciarlos para entender la afectación de cada una de estas actividades en el Estado de resultados\n",
    "El Estado de resultados nos da las pautas para conocer la afectación en nuestros stakeholders\n",
    "\n",
    "Utilidad bruta = Ingresos - Costos de venta.\n",
    "\n",
    "Utilidad operativa = Utilidad bruta - Gastos de administracion\n",
    "\n",
    "Utilidad Neta = Utilidad operativa -  0tros gastos e ingresos - impuestos.\n",
    "\n"
   ]
  },
  {
   "attachments": {},
   "cell_type": "markdown",
   "metadata": {},
   "source": [
    "## Income statement simplificado: Utilidad bruta, operativa y neta."
   ]
  },
  {
   "attachments": {},
   "cell_type": "markdown",
   "metadata": {},
   "source": [
    "### ¿Como afecta cada actividad al income statement?\n",
    "\n",
    "- Costo de materia prima. Afecta directamente a la utilidad Bruta.\n",
    "- Incremento en la nomina. Afecta la utilidad operativa."
   ]
  },
  {
   "attachments": {},
   "cell_type": "markdown",
   "metadata": {},
   "source": [
    "## Piensa de lo particular a lo  general.\n"
   ]
  },
  {
   "attachments": {},
   "cell_type": "markdown",
   "metadata": {},
   "source": [
    "## Ingresos vs Utilidad.\n",
    "\n",
    "Los ingresos son todos aquellos los cuales no se les ha sustraido los gastos o costos de los bienes.\n",
    "Cuando sustraemos estas variables obtenemos la Utilidad.\n",
    "\n",
    "No siempre mayor ingresos se traduce en mayor utilidad.\n",
    "\n",
    "### ¡Es necesario saber sobre nuestros costos!\n",
    "\n",
    "Mayor costo no siempre sinfica menor utilidad.\n",
    "\n"
   ]
  },
  {
   "attachments": {},
   "cell_type": "markdown",
   "metadata": {},
   "source": []
  }
 ],
 "metadata": {
  "kernelspec": {
   "display_name": "Python 3",
   "language": "python",
   "name": "python3"
  },
  "language_info": {
   "name": "python",
   "version": "3.10.6"
  },
  "orig_nbformat": 4,
  "vscode": {
   "interpreter": {
    "hash": "916dbcbb3f70747c44a77c7bcd40155683ae19c65e1c03b4aa3499c5328201f1"
   }
  }
 },
 "nbformat": 4,
 "nbformat_minor": 2
}
