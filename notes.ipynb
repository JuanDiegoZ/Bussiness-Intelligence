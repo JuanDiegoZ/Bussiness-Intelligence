{
 "cells": [
  {
   "attachments": {},
   "cell_type": "markdown",
   "metadata": {},
   "source": [
    "# Business intelligence"
   ]
  },
  {
   "attachments": {},
   "cell_type": "markdown",
   "metadata": {},
   "source": [
    "### Funciona como un analisis descriptivo de la información en tiempo pasado y presente."
   ]
  },
  {
   "attachments": {},
   "cell_type": "markdown",
   "metadata": {},
   "source": [
    "## Bases del Bi."
   ]
  },
  {
   "attachments": {},
   "cell_type": "markdown",
   "metadata": {},
   "source": [
    "Fundamental para generar reportres y descubrir con la informacion que tenemos.\n",
    "\n",
    "Estrucutura del BI.\n",
    "\n",
    "ETL\n",
    "- Extract\n",
    "- Transform\n",
    "- Load\n",
    "\n",
    "En el proceso sigue:\n",
    "- Exploracion\n",
    "- Descubrimiento\n",
    "- Reporting\n",
    "Presentacion de la informacion o ¿Cómo?:\n",
    "- Visualizacion de datos\n",
    "- Storytelling\n",
    "- Recomendaciones\n",
    "\n",
    "  "
   ]
  },
  {
   "attachments": {},
   "cell_type": "markdown",
   "metadata": {},
   "source": [
    "## Reto:\n",
    "#### Que es BI?\n",
    "### Area que busca obtener insings o informacion relevante para la toma de decisiones a partir de los datos en una organizacion o empresa."
   ]
  },
  {
   "attachments": {},
   "cell_type": "markdown",
   "metadata": {},
   "source": [
    "## Stakeholders\n",
    "\n",
    "- Personas o  actores con interes de pormedio en la empresa u organización.\n",
    "Aqui 2 ejemplos de ello:\n",
    "- Accionista: Retorno de inversión.\n",
    "- Clientes: calidad de productos, servicios y necesidades.\n",
    "- Emplados: Seguridad, estabilidad.\n",
    "- Proveedores: estabilidad e ingresos.\n",
    "## Priorizar stakeholders\n",
    "No se puede mantener a todo mundo contento.\n",
    "### Empresa tradicional\n",
    "1. Accionistas\n",
    "2. Clientes\n",
    "3. Empleados\n",
    "### Startups\n",
    "1. Clientes\n",
    "2. Empleados\n",
    "3. Accionistas\n",
    "   \n",
    "## La razón del BI\n",
    "### Salvalguardar los intereses de los stakeholders\n",
    "\n",
    "### Ejemplo: stakeholders\n",
    "##### Bancolombia\n",
    "1. Accionistas\n",
    "2. Clientes\n",
    "3. Empleados\n",
    "\n"
   ]
  },
  {
   "attachments": {},
   "cell_type": "markdown",
   "metadata": {},
   "source": [
    "## Tipo de empresas.\n",
    "## Venta de productos y ventas de servicios.\n",
    "\n",
    "Es importante diferenciarlos para entender la afectación de cada una de estas actividades en el Estado de resultados\n",
    "El Estado de resultados nos da las pautas para conocer la afectación en nuestros stakeholders\n",
    "\n",
    "Utilidad bruta = Ingresos - Costos de venta.\n",
    "\n",
    "Utilidad operativa = Utilidad bruta - Gastos de administracion\n",
    "\n",
    "Utilidad Neta = Utilidad operativa -  0tros gastos e ingresos - impuestos.\n",
    "\n"
   ]
  },
  {
   "attachments": {},
   "cell_type": "markdown",
   "metadata": {},
   "source": [
    "## Income statement simplificado: Utilidad bruta, operativa y neta."
   ]
  },
  {
   "attachments": {},
   "cell_type": "markdown",
   "metadata": {},
   "source": [
    "### ¿Como afecta cada actividad al income statement?\n",
    "\n",
    "- Costo de materia prima. Afecta directamente a la utilidad Bruta.\n",
    "- Incremento en la nomina. Afecta la utilidad operativa."
   ]
  },
  {
   "attachments": {},
   "cell_type": "markdown",
   "metadata": {},
   "source": [
    "## Piensa de lo particular a lo  general.\n"
   ]
  },
  {
   "attachments": {},
   "cell_type": "markdown",
   "metadata": {},
   "source": [
    "## Ingresos vs Utilidad.\n",
    "\n",
    "Los ingresos son todos aquellos los cuales no se les ha sustraido los gastos o costos de los bienes.\n",
    "Cuando sustraemos estas variables obtenemos la Utilidad.\n",
    "\n",
    "No siempre mayor ingresos se traduce en mayor utilidad.\n",
    "\n",
    "### ¡Es necesario saber sobre nuestros costos!\n",
    "\n",
    "Mayor costo no siempre sinfica menor utilidad.\n",
    "\n"
   ]
  },
  {
   "attachments": {},
   "cell_type": "markdown",
   "metadata": {},
   "source": [
    "## Margen de contribución"
   ]
  },
  {
   "attachments": {},
   "cell_type": "markdown",
   "metadata": {},
   "source": [
    "- El margen de produccion se define como el precio de los productos menos el costo de produccion.\n",
    "\n",
    "### Punto de equilibrio.\n",
    "- Numero de ventas necesarios para seguir operando sin ganar ni perder dinero.\n",
    "- Formulo del punto del equilibrio: PE = Costos fijos/(Precio de venta por unidad - costo varible por unidad)\n",
    "- Es una manera rápida de ver la afectación a las utilidades brutas.\n",
    "  "
   ]
  },
  {
   "attachments": {},
   "cell_type": "markdown",
   "metadata": {},
   "source": [
    "## Razones matematicas en los negocios."
   ]
  },
  {
   "attachments": {},
   "cell_type": "markdown",
   "metadata": {},
   "source": [
    "- Lo utilizamos para encontrar la relacion entre 2 magnitudes.\n",
    "- Se expresa generalmente en porcentajes.\n",
    "- Sirven para comparar rendimientos de manera sencilla.\n",
    "Ejemplos:\n",
    "\n",
    "- Utilidad/ingresos: de esta forma logro saber que porcenta me de lo que me ingresa me queda de utilidad.\n",
    "- Ventas de producto/ ventas totales :  saber cada aporte de un producto.\n"
   ]
  },
  {
   "attachments": {},
   "cell_type": "markdown",
   "metadata": {},
   "source": [
    "# Cafe Sirena Challenge.\n",
    "\n",
    "- Se vendieron 3500 vasos de cafe a 2.50 USD Cada uno.\n",
    "- El costo del grano de cafe por cada vaso es de 0.10 USD y el costo del vaso de carton utilizado es de 0.10 USD.\n",
    "- La empresa cuenta con 4 empleados, cada uno recibe un sueldo de $400 USD.\n",
    "### Adicional te entrega la siguiente hoja de gasto.\n",
    "- Internet $100 USD\n",
    "- Renta del local $1000 USD\n",
    "- Publicidad $800 USD\n",
    "\n",
    "- Estrategia de publicidad duplicar presupuesto de publicidad ventas aumentan un 15%.\n",
    "\n",
    "\n"
   ]
  },
  {
   "cell_type": "code",
   "execution_count": 1,
   "metadata": {},
   "outputs": [
    {
     "name": "stdout",
     "output_type": "stream",
     "text": [
      "1521.7391304347827\n",
      "1869.5652173913045\n",
      "348\n"
     ]
    }
   ],
   "source": [
    "costos_fijos = 3500\n",
    "precio_venta = 2.5\n",
    "coste_producto = 0.2\n",
    "\n",
    "punto_de_equilibrio = costos_fijos/(precio_venta - coste_producto)\n",
    "print(punto_de_equilibrio)\n",
    "\n",
    "# supuesto de incremento del doble en publicidad.\n",
    "# Nuevos costos fijos\n",
    "\n",
    "costos_fijos = 4300\n",
    "punto_de_equilibrio = costos_fijos/(precio_venta - coste_producto)\n",
    "print(punto_de_equilibrio)\n",
    "#el nuevo punto de equilibrio se encontraria en vender 348 unidades mas.\n",
    "print(1869 - 1521)\n",
    "\n",
    "ventas_actuales_numero = 3500\n",
    "\n",
    "# se vendieron 1400 cafes. \n",
    "#El 15 de 3500 es 525 .\n",
    "# si las ventas umentan en 525 unidades y el punto de equilibrio en 438 es una clara señal que  se recomienda el aumento \n",
    "# en gasto de publicidad.\n",
    "\n"
   ]
  },
  {
   "attachments": {},
   "cell_type": "markdown",
   "metadata": {},
   "source": [
    "## Proceso ETL.\n",
    "- EXTRAC, TRANSFORM, LOAD.\n",
    "- EXTAC : Gran diversidad de fuentes, silos de informacion.Execel,SAP, Google studio.\n",
    "- Tipos de archivo: Execel, cvs.\n",
    "- "
   ]
  },
  {
   "attachments": {},
   "cell_type": "markdown",
   "metadata": {},
   "source": [
    "## Limpieza de datos con python y execel\n",
    "- Garbage in, garbage out.\n",
    "- Primer acercamiento en los datos.\n",
    "- limpieza de datos con excel y python."
   ]
  },
  {
   "attachments": {},
   "cell_type": "markdown",
   "metadata": {},
   "source": [
    "## Exploracion de datos.\n",
    "\n",
    "- Preguntas que ni sabias que existian.\n",
    "\n",
    "- Cambio de hipótesis iniciales\n",
    "\n",
    "- Tableu, PowerBi, python.\n",
    "\n",
    "## Highlights.\n",
    "- Lo mas buscado, lo menos buscado...\n",
    "- Patrones o temporalidad.\n",
    "- Esfuerzate en entender tu data.\n",
    "\n",
    "## Reporting.\n",
    "- Piensa en tu audiencia, piensa en el mensaje que quieres dar.\n",
    "- Importante el contexto.\n",
    "- Descripción, descubrimientos y sugerencias.\n",
    "##"
   ]
  },
  {
   "attachments": {},
   "cell_type": "markdown",
   "metadata": {},
   "source": [
    "## Alertas, Automatizaciones y live reporting.\n",
    "- Falta de tiempo real al momento de toma de desiciones.\n",
    "- Alertas, Kpi, metricas, colores.\n",
    "- Tienes un dashbord de ventas en el dia, si en ese dia no se logra las metas de ventas. Cambie a color rojo.\n",
    "- "
   ]
  },
  {
   "attachments": {},
   "cell_type": "markdown",
   "metadata": {},
   "source": [
    "🎯¿Que es un KPI?\n",
    "\n",
    "Key Performance Indicator\n",
    "“Indicador Clave de Rendimiento”\n",
    ".\n",
    "Es una métrica que indican el desempeño y progreso de un objetivo o un acción en la empresa.\n",
    "…\n",
    "Su objetivo es ayudar a tomar decisiones en base al estado de las tareas mediante la comparación de resultados."
   ]
  },
  {
   "attachments": {},
   "cell_type": "markdown",
   "metadata": {},
   "source": [
    "## Eficiencia\n",
    "Tiempo, procesos, Siempre se busca aumentar la utilidad.\n",
    "Piensa en la jerarquia de los stakehodelrs. \n",
    "El Bi puede eficientizar un proceso, mostrando informacion que a simple vista no se ve relevante\n",
    "- Optimizar procesos.\n",
    "- Utilizar la evidencia como base para la toma de decisiones.\n",
    "- Tener una visión más amplia y concreta de la empresa.\n",
    "- Agregar valor al negocio y a las soluciones ofrecidas a los clientes.\n",
    "- Identificar las tendencias y el comportamiento del consumidor.\n",
    "- Identificar nuevas oportunidades comerciales.\n",
    "- Identificar pérdidas en algún punto."
   ]
  }
 ],
 "metadata": {
  "kernelspec": {
   "display_name": "Python 3",
   "language": "python",
   "name": "python3"
  },
  "language_info": {
   "codemirror_mode": {
    "name": "ipython",
    "version": 3
   },
   "file_extension": ".py",
   "mimetype": "text/x-python",
   "name": "python",
   "nbconvert_exporter": "python",
   "pygments_lexer": "ipython3",
   "version": "3.10.6"
  },
  "orig_nbformat": 4,
  "vscode": {
   "interpreter": {
    "hash": "916dbcbb3f70747c44a77c7bcd40155683ae19c65e1c03b4aa3499c5328201f1"
   }
  }
 },
 "nbformat": 4,
 "nbformat_minor": 2
}
